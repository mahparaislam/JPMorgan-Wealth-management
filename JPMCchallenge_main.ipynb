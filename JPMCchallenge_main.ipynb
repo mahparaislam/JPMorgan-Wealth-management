{
  "nbformat": 4,
  "nbformat_minor": 0,
  "metadata": {
    "colab": {
      "name": "Untitled0.ipynb",
      "provenance": [],
      "collapsed_sections": []
    },
    "kernelspec": {
      "name": "python3",
      "display_name": "Python 3"
    }
  },
  "cells": [
    {
      "cell_type": "code",
      "metadata": {
        "id": "fSMONJ202zvA"
      },
      "source": [
        "import matplotlib.pyplot as plt\n",
        "import numpy as np\n",
        "import pandas as pd\n",
        "import pandas_datareader as web\n",
        "from matplotlib.ticker import FuncFormatter"
      ],
      "execution_count": null,
      "outputs": []
    },
    {
      "cell_type": "code",
      "metadata": {
        "colab": {
          "base_uri": "https://localhost:8080/"
        },
        "id": "z_U1FvDX3nlx",
        "outputId": "8bcc3efe-1e12-4768-ac8a-b5e8cbeb6e2c"
      },
      "source": [
        "import sys\n",
        "!{sys.executable} -m pip install PyPortfolioOpt"
      ],
      "execution_count": null,
      "outputs": [
        {
          "output_type": "stream",
          "text": [
            "Collecting PyPortfolioOpt\n",
            "\u001b[?25l  Downloading https://files.pythonhosted.org/packages/46/55/7d39d78d554ee33a7317e345caf01339da11406c28f18bc48794fe967935/PyPortfolioOpt-1.4.1-py3-none-any.whl (56kB)\n",
            "\r\u001b[K     |█████▊                          | 10kB 13.4MB/s eta 0:00:01\r\u001b[K     |███████████▌                    | 20kB 12.2MB/s eta 0:00:01\r\u001b[K     |█████████████████▎              | 30kB 8.6MB/s eta 0:00:01\r\u001b[K     |███████████████████████         | 40kB 6.9MB/s eta 0:00:01\r\u001b[K     |████████████████████████████▉   | 51kB 4.3MB/s eta 0:00:01\r\u001b[K     |████████████████████████████████| 61kB 3.0MB/s \n",
            "\u001b[?25hRequirement already satisfied: numpy<2.0,>=1.12 in /usr/local/lib/python3.7/dist-packages (from PyPortfolioOpt) (1.19.5)\n",
            "Requirement already satisfied: pandas>=0.19 in /usr/local/lib/python3.7/dist-packages (from PyPortfolioOpt) (1.1.5)\n",
            "Requirement already satisfied: scipy<2.0,>=1.3 in /usr/local/lib/python3.7/dist-packages (from PyPortfolioOpt) (1.4.1)\n",
            "Collecting cvxpy<2.0.0,>=1.1.10\n",
            "\u001b[?25l  Downloading https://files.pythonhosted.org/packages/b5/7e/ec053f8a89f0c380379f9af2066e55fa77adfd5ef7fa63923097b0e2896b/cvxpy-1.1.11.tar.gz (1.3MB)\n",
            "\u001b[K     |████████████████████████████████| 1.3MB 7.9MB/s \n",
            "\u001b[?25h  Installing build dependencies ... \u001b[?25l\u001b[?25hdone\n",
            "  Getting requirements to build wheel ... \u001b[?25l\u001b[?25hdone\n",
            "    Preparing wheel metadata ... \u001b[?25l\u001b[?25hdone\n",
            "Requirement already satisfied: pytz>=2017.2 in /usr/local/lib/python3.7/dist-packages (from pandas>=0.19->PyPortfolioOpt) (2018.9)\n",
            "Requirement already satisfied: python-dateutil>=2.7.3 in /usr/local/lib/python3.7/dist-packages (from pandas>=0.19->PyPortfolioOpt) (2.8.1)\n",
            "Requirement already satisfied: ecos>=2 in /usr/local/lib/python3.7/dist-packages (from cvxpy<2.0.0,>=1.1.10->PyPortfolioOpt) (2.0.7.post1)\n",
            "Requirement already satisfied: osqp>=0.4.1 in /usr/local/lib/python3.7/dist-packages (from cvxpy<2.0.0,>=1.1.10->PyPortfolioOpt) (0.6.2.post0)\n",
            "Requirement already satisfied: scs>=1.1.6 in /usr/local/lib/python3.7/dist-packages (from cvxpy<2.0.0,>=1.1.10->PyPortfolioOpt) (2.1.2)\n",
            "Requirement already satisfied: six>=1.5 in /usr/local/lib/python3.7/dist-packages (from python-dateutil>=2.7.3->pandas>=0.19->PyPortfolioOpt) (1.15.0)\n",
            "Requirement already satisfied: qdldl in /usr/local/lib/python3.7/dist-packages (from osqp>=0.4.1->cvxpy<2.0.0,>=1.1.10->PyPortfolioOpt) (0.1.5.post0)\n",
            "Building wheels for collected packages: cvxpy\n",
            "  Building wheel for cvxpy (PEP 517) ... \u001b[?25l\u001b[?25hdone\n",
            "  Created wheel for cvxpy: filename=cvxpy-1.1.11-cp37-cp37m-linux_x86_64.whl size=2725477 sha256=af33cb9d40386cb203fce956de8ecb4dc62e7ae0146302a4b76d17422a7c2ef3\n",
            "  Stored in directory: /root/.cache/pip/wheels/df/d4/eb/c74e09a39bc4ac09b3a8d2a48c1c6009f391056d8c87bf68aa\n",
            "Successfully built cvxpy\n",
            "Installing collected packages: cvxpy, PyPortfolioOpt\n",
            "  Found existing installation: cvxpy 1.0.31\n",
            "    Uninstalling cvxpy-1.0.31:\n",
            "      Successfully uninstalled cvxpy-1.0.31\n",
            "Successfully installed PyPortfolioOpt-1.4.1 cvxpy-1.1.11\n"
          ],
          "name": "stdout"
        }
      ]
    },
    {
      "cell_type": "code",
      "metadata": {
        "id": "cwhDhT454h4z"
      },
      "source": [
        "from pypfopt.efficient_frontier import EfficientFrontier\n",
        "from pypfopt import risk_models\n",
        "from pypfopt import expected_returns\n",
        "from pypfopt.cla import CLA\n",
        "from pypfopt import plotting\n",
        "from matplotlib.ticker import FuncFormatter"
      ],
      "execution_count": null,
      "outputs": []
    },
    {
      "cell_type": "code",
      "metadata": {
        "colab": {
          "base_uri": "https://localhost:8080/",
          "height": 225
        },
        "id": "QD0daz5O4m7R",
        "outputId": "0e4c372f-e631-4686-bcf0-f90338fa61e5"
      },
      "source": [
        "from datetime import date\n",
        "from pandas_datareader.data import DataReader\n",
        "from pandas_datareader import data\n",
        "tickers = ['SGOL','BSCR','FDHY','VGSH','VOO','BBJP','WOOD', 'SRET']\n",
        "thelen = len(tickers)\n",
        "price_data = []\n",
        "start = date(2020,3,1)\n",
        "end= date(2021,3,1)\n",
        "data_source= 'yahoo'\n",
        "prices = data.DataReader(tickers, data_source, start, end)\n",
        "\n",
        "prices = prices['Adj Close']\n",
        "prices.head()\n",
        "  "
      ],
      "execution_count": null,
      "outputs": [
        {
          "output_type": "execute_result",
          "data": {
            "text/html": [
              "<div>\n",
              "<style scoped>\n",
              "    .dataframe tbody tr th:only-of-type {\n",
              "        vertical-align: middle;\n",
              "    }\n",
              "\n",
              "    .dataframe tbody tr th {\n",
              "        vertical-align: top;\n",
              "    }\n",
              "\n",
              "    .dataframe thead th {\n",
              "        text-align: right;\n",
              "    }\n",
              "</style>\n",
              "<table border=\"1\" class=\"dataframe\">\n",
              "  <thead>\n",
              "    <tr style=\"text-align: right;\">\n",
              "      <th>Symbols</th>\n",
              "      <th>SGOL</th>\n",
              "      <th>BSCR</th>\n",
              "      <th>FDHY</th>\n",
              "      <th>VGSH</th>\n",
              "      <th>VOO</th>\n",
              "      <th>BBJP</th>\n",
              "      <th>WOOD</th>\n",
              "      <th>SRET</th>\n",
              "    </tr>\n",
              "    <tr>\n",
              "      <th>Date</th>\n",
              "      <th></th>\n",
              "      <th></th>\n",
              "      <th></th>\n",
              "      <th></th>\n",
              "      <th></th>\n",
              "      <th></th>\n",
              "      <th></th>\n",
              "      <th></th>\n",
              "    </tr>\n",
              "  </thead>\n",
              "  <tbody>\n",
              "    <tr>\n",
              "      <th>2020-03-02</th>\n",
              "      <td>15.270000</td>\n",
              "      <td>20.895105</td>\n",
              "      <td>50.298717</td>\n",
              "      <td>60.561535</td>\n",
              "      <td>278.749420</td>\n",
              "      <td>21.902399</td>\n",
              "      <td>58.212421</td>\n",
              "      <td>13.066525</td>\n",
              "    </tr>\n",
              "    <tr>\n",
              "      <th>2020-03-03</th>\n",
              "      <td>15.750000</td>\n",
              "      <td>21.092216</td>\n",
              "      <td>49.956738</td>\n",
              "      <td>60.788128</td>\n",
              "      <td>271.060638</td>\n",
              "      <td>21.670076</td>\n",
              "      <td>57.669395</td>\n",
              "      <td>12.884919</td>\n",
              "    </tr>\n",
              "    <tr>\n",
              "      <th>2020-03-04</th>\n",
              "      <td>15.780000</td>\n",
              "      <td>21.150764</td>\n",
              "      <td>50.555191</td>\n",
              "      <td>60.847244</td>\n",
              "      <td>282.294342</td>\n",
              "      <td>22.095175</td>\n",
              "      <td>59.851376</td>\n",
              "      <td>13.141903</td>\n",
              "    </tr>\n",
              "    <tr>\n",
              "      <th>2020-03-05</th>\n",
              "      <td>16.120001</td>\n",
              "      <td>21.141010</td>\n",
              "      <td>50.213223</td>\n",
              "      <td>60.955627</td>\n",
              "      <td>272.838013</td>\n",
              "      <td>21.660191</td>\n",
              "      <td>57.699017</td>\n",
              "      <td>12.812670</td>\n",
              "    </tr>\n",
              "    <tr>\n",
              "      <th>2020-03-06</th>\n",
              "      <td>16.110001</td>\n",
              "      <td>21.126371</td>\n",
              "      <td>49.700256</td>\n",
              "      <td>60.995033</td>\n",
              "      <td>268.262085</td>\n",
              "      <td>21.442699</td>\n",
              "      <td>56.504356</td>\n",
              "      <td>12.611473</td>\n",
              "    </tr>\n",
              "  </tbody>\n",
              "</table>\n",
              "</div>"
            ],
            "text/plain": [
              "Symbols          SGOL       BSCR       FDHY  ...       BBJP       WOOD       SRET\n",
              "Date                                         ...                                 \n",
              "2020-03-02  15.270000  20.895105  50.298717  ...  21.902399  58.212421  13.066525\n",
              "2020-03-03  15.750000  21.092216  49.956738  ...  21.670076  57.669395  12.884919\n",
              "2020-03-04  15.780000  21.150764  50.555191  ...  22.095175  59.851376  13.141903\n",
              "2020-03-05  16.120001  21.141010  50.213223  ...  21.660191  57.699017  12.812670\n",
              "2020-03-06  16.110001  21.126371  49.700256  ...  21.442699  56.504356  12.611473\n",
              "\n",
              "[5 rows x 8 columns]"
            ]
          },
          "metadata": {
            "tags": []
          },
          "execution_count": 34
        }
      ]
    },
    {
      "cell_type": "code",
      "metadata": {
        "id": "Tq3i3-j54s-D"
      },
      "source": [
        "\n",
        "from pypfopt.expected_returns import mean_historical_return\n",
        "from pypfopt.risk_models import CovarianceShrinkage\n",
        "\n",
        "\n",
        "mu = mean_historical_return(prices)\n",
        "S = CovarianceShrinkage(prices).ledoit_wolf()"
      ],
      "execution_count": null,
      "outputs": []
    },
    {
      "cell_type": "code",
      "metadata": {
        "colab": {
          "base_uri": "https://localhost:8080/",
          "height": 314
        },
        "id": "M4KlFPWE5Xyz",
        "outputId": "b1a40172-2a1c-4f70-bb92-9a75e4002549"
      },
      "source": [
        "S"
      ],
      "execution_count": null,
      "outputs": [
        {
          "output_type": "execute_result",
          "data": {
            "text/html": [
              "<div>\n",
              "<style scoped>\n",
              "    .dataframe tbody tr th:only-of-type {\n",
              "        vertical-align: middle;\n",
              "    }\n",
              "\n",
              "    .dataframe tbody tr th {\n",
              "        vertical-align: top;\n",
              "    }\n",
              "\n",
              "    .dataframe thead th {\n",
              "        text-align: right;\n",
              "    }\n",
              "</style>\n",
              "<table border=\"1\" class=\"dataframe\">\n",
              "  <thead>\n",
              "    <tr style=\"text-align: right;\">\n",
              "      <th>Symbols</th>\n",
              "      <th>SGOL</th>\n",
              "      <th>BSCR</th>\n",
              "      <th>FDHY</th>\n",
              "      <th>VGSH</th>\n",
              "      <th>VOO</th>\n",
              "      <th>BBJP</th>\n",
              "      <th>WOOD</th>\n",
              "      <th>SRET</th>\n",
              "    </tr>\n",
              "    <tr>\n",
              "      <th>Symbols</th>\n",
              "      <th></th>\n",
              "      <th></th>\n",
              "      <th></th>\n",
              "      <th></th>\n",
              "      <th></th>\n",
              "      <th></th>\n",
              "      <th></th>\n",
              "      <th></th>\n",
              "    </tr>\n",
              "  </thead>\n",
              "  <tbody>\n",
              "    <tr>\n",
              "      <th>SGOL</th>\n",
              "      <td>0.044879</td>\n",
              "      <td>0.005831</td>\n",
              "      <td>0.003713</td>\n",
              "      <td>0.000167</td>\n",
              "      <td>0.010321</td>\n",
              "      <td>0.008948</td>\n",
              "      <td>0.011165</td>\n",
              "      <td>0.001687</td>\n",
              "    </tr>\n",
              "    <tr>\n",
              "      <th>BSCR</th>\n",
              "      <td>0.005831</td>\n",
              "      <td>0.019700</td>\n",
              "      <td>0.008211</td>\n",
              "      <td>0.000028</td>\n",
              "      <td>0.013101</td>\n",
              "      <td>0.007588</td>\n",
              "      <td>0.016188</td>\n",
              "      <td>0.028619</td>\n",
              "    </tr>\n",
              "    <tr>\n",
              "      <th>FDHY</th>\n",
              "      <td>0.003713</td>\n",
              "      <td>0.008211</td>\n",
              "      <td>0.027820</td>\n",
              "      <td>-0.000594</td>\n",
              "      <td>0.035520</td>\n",
              "      <td>0.020520</td>\n",
              "      <td>0.037965</td>\n",
              "      <td>0.048387</td>\n",
              "    </tr>\n",
              "    <tr>\n",
              "      <th>VGSH</th>\n",
              "      <td>0.000167</td>\n",
              "      <td>0.000028</td>\n",
              "      <td>-0.000594</td>\n",
              "      <td>0.007773</td>\n",
              "      <td>-0.001843</td>\n",
              "      <td>-0.001171</td>\n",
              "      <td>-0.002046</td>\n",
              "      <td>-0.000968</td>\n",
              "    </tr>\n",
              "    <tr>\n",
              "      <th>VOO</th>\n",
              "      <td>0.010321</td>\n",
              "      <td>0.013101</td>\n",
              "      <td>0.035520</td>\n",
              "      <td>-0.001843</td>\n",
              "      <td>0.114179</td>\n",
              "      <td>0.064690</td>\n",
              "      <td>0.118281</td>\n",
              "      <td>0.125062</td>\n",
              "    </tr>\n",
              "    <tr>\n",
              "      <th>BBJP</th>\n",
              "      <td>0.008948</td>\n",
              "      <td>0.007588</td>\n",
              "      <td>0.020520</td>\n",
              "      <td>-0.001171</td>\n",
              "      <td>0.064690</td>\n",
              "      <td>0.066623</td>\n",
              "      <td>0.080650</td>\n",
              "      <td>0.087884</td>\n",
              "    </tr>\n",
              "    <tr>\n",
              "      <th>WOOD</th>\n",
              "      <td>0.011165</td>\n",
              "      <td>0.016188</td>\n",
              "      <td>0.037965</td>\n",
              "      <td>-0.002046</td>\n",
              "      <td>0.118281</td>\n",
              "      <td>0.080650</td>\n",
              "      <td>0.171479</td>\n",
              "      <td>0.175673</td>\n",
              "    </tr>\n",
              "    <tr>\n",
              "      <th>SRET</th>\n",
              "      <td>0.001687</td>\n",
              "      <td>0.028619</td>\n",
              "      <td>0.048387</td>\n",
              "      <td>-0.000968</td>\n",
              "      <td>0.125062</td>\n",
              "      <td>0.087884</td>\n",
              "      <td>0.175673</td>\n",
              "      <td>0.392725</td>\n",
              "    </tr>\n",
              "  </tbody>\n",
              "</table>\n",
              "</div>"
            ],
            "text/plain": [
              "Symbols      SGOL      BSCR      FDHY  ...      BBJP      WOOD      SRET\n",
              "Symbols                                ...                              \n",
              "SGOL     0.044879  0.005831  0.003713  ...  0.008948  0.011165  0.001687\n",
              "BSCR     0.005831  0.019700  0.008211  ...  0.007588  0.016188  0.028619\n",
              "FDHY     0.003713  0.008211  0.027820  ...  0.020520  0.037965  0.048387\n",
              "VGSH     0.000167  0.000028 -0.000594  ... -0.001171 -0.002046 -0.000968\n",
              "VOO      0.010321  0.013101  0.035520  ...  0.064690  0.118281  0.125062\n",
              "BBJP     0.008948  0.007588  0.020520  ...  0.066623  0.080650  0.087884\n",
              "WOOD     0.011165  0.016188  0.037965  ...  0.080650  0.171479  0.175673\n",
              "SRET     0.001687  0.028619  0.048387  ...  0.087884  0.175673  0.392725\n",
              "\n",
              "[8 rows x 8 columns]"
            ]
          },
          "metadata": {
            "tags": []
          },
          "execution_count": 36
        }
      ]
    },
    {
      "cell_type": "code",
      "metadata": {
        "colab": {
          "base_uri": "https://localhost:8080/"
        },
        "id": "3V0VPIaCi_wm",
        "outputId": "9f4bae5a-0f01-4c42-8492-fb3e547d0eee"
      },
      "source": [
        "import sys\n",
        "!{sys.executable} -m pip install PyPortfolioOpt"
      ],
      "execution_count": null,
      "outputs": [
        {
          "output_type": "stream",
          "text": [
            "Requirement already satisfied: PyPortfolioOpt in /usr/local/lib/python3.7/dist-packages (1.4.1)\n",
            "Requirement already satisfied: cvxpy<2.0.0,>=1.1.10 in /usr/local/lib/python3.7/dist-packages (from PyPortfolioOpt) (1.1.11)\n",
            "Requirement already satisfied: pandas>=0.19 in /usr/local/lib/python3.7/dist-packages (from PyPortfolioOpt) (1.1.5)\n",
            "Requirement already satisfied: numpy<2.0,>=1.12 in /usr/local/lib/python3.7/dist-packages (from PyPortfolioOpt) (1.19.5)\n",
            "Requirement already satisfied: scipy<2.0,>=1.3 in /usr/local/lib/python3.7/dist-packages (from PyPortfolioOpt) (1.4.1)\n",
            "Requirement already satisfied: ecos>=2 in /usr/local/lib/python3.7/dist-packages (from cvxpy<2.0.0,>=1.1.10->PyPortfolioOpt) (2.0.7.post1)\n",
            "Requirement already satisfied: osqp>=0.4.1 in /usr/local/lib/python3.7/dist-packages (from cvxpy<2.0.0,>=1.1.10->PyPortfolioOpt) (0.6.2.post0)\n",
            "Requirement already satisfied: scs>=1.1.6 in /usr/local/lib/python3.7/dist-packages (from cvxpy<2.0.0,>=1.1.10->PyPortfolioOpt) (2.1.2)\n",
            "Requirement already satisfied: python-dateutil>=2.7.3 in /usr/local/lib/python3.7/dist-packages (from pandas>=0.19->PyPortfolioOpt) (2.8.1)\n",
            "Requirement already satisfied: pytz>=2017.2 in /usr/local/lib/python3.7/dist-packages (from pandas>=0.19->PyPortfolioOpt) (2018.9)\n",
            "Requirement already satisfied: qdldl in /usr/local/lib/python3.7/dist-packages (from osqp>=0.4.1->cvxpy<2.0.0,>=1.1.10->PyPortfolioOpt) (0.1.5.post0)\n",
            "Requirement already satisfied: six>=1.5 in /usr/local/lib/python3.7/dist-packages (from python-dateutil>=2.7.3->pandas>=0.19->PyPortfolioOpt) (1.15.0)\n"
          ],
          "name": "stdout"
        }
      ]
    },
    {
      "cell_type": "code",
      "metadata": {
        "id": "qD6RitrYjIOn",
        "colab": {
          "base_uri": "https://localhost:8080/"
        },
        "outputId": "9395576b-d4af-4c2f-afd3-de28ec400d75"
      },
      "source": [
        "#Max Sharpe Ratio - Tangent to the EF\n",
        "from pypfopt.efficient_frontier import EfficientFrontier\n",
        "ef = EfficientFrontier(mu, S, weight_bounds=(0,1)) #weight bounds in negative allows shorting of stocks\n",
        "ef.efficient_return(target_return=0.06, market_neutral=False)\n",
        "#sharpe_pfolio=ef.max_sharpe() #May use add objective to ensure minimum zero weighting to individual stocks\n",
        "sharpe_pwt=ef.clean_weights()\n",
        "print(sharpe_pwt)"
      ],
      "execution_count": null,
      "outputs": [
        {
          "output_type": "stream",
          "text": [
            "OrderedDict([('SGOL', 0.07302), ('BSCR', 0.1571), ('FDHY', 0.09829), ('VGSH', 0.59018), ('VOO', 0.0), ('BBJP', 0.08141), ('WOOD', 0.0), ('SRET', 0.0)])\n"
          ],
          "name": "stdout"
        }
      ]
    },
    {
      "cell_type": "code",
      "metadata": {
        "id": "R9gfspK84K5D",
        "colab": {
          "base_uri": "https://localhost:8080/"
        },
        "outputId": "a0c072b8-207a-43b6-8fec-9b5f5ee20048"
      },
      "source": [
        "!{sys.executable} -m pip install PyPortfolioOpt"
      ],
      "execution_count": null,
      "outputs": [
        {
          "output_type": "stream",
          "text": [
            "Requirement already satisfied: PyPortfolioOpt in /usr/local/lib/python3.7/dist-packages (1.4.1)\n",
            "Requirement already satisfied: numpy<2.0,>=1.12 in /usr/local/lib/python3.7/dist-packages (from PyPortfolioOpt) (1.19.5)\n",
            "Requirement already satisfied: cvxpy<2.0.0,>=1.1.10 in /usr/local/lib/python3.7/dist-packages (from PyPortfolioOpt) (1.1.11)\n",
            "Requirement already satisfied: pandas>=0.19 in /usr/local/lib/python3.7/dist-packages (from PyPortfolioOpt) (1.1.5)\n",
            "Requirement already satisfied: scipy<2.0,>=1.3 in /usr/local/lib/python3.7/dist-packages (from PyPortfolioOpt) (1.4.1)\n",
            "Requirement already satisfied: osqp>=0.4.1 in /usr/local/lib/python3.7/dist-packages (from cvxpy<2.0.0,>=1.1.10->PyPortfolioOpt) (0.6.2.post0)\n",
            "Requirement already satisfied: scs>=1.1.6 in /usr/local/lib/python3.7/dist-packages (from cvxpy<2.0.0,>=1.1.10->PyPortfolioOpt) (2.1.2)\n",
            "Requirement already satisfied: ecos>=2 in /usr/local/lib/python3.7/dist-packages (from cvxpy<2.0.0,>=1.1.10->PyPortfolioOpt) (2.0.7.post1)\n",
            "Requirement already satisfied: python-dateutil>=2.7.3 in /usr/local/lib/python3.7/dist-packages (from pandas>=0.19->PyPortfolioOpt) (2.8.1)\n",
            "Requirement already satisfied: pytz>=2017.2 in /usr/local/lib/python3.7/dist-packages (from pandas>=0.19->PyPortfolioOpt) (2018.9)\n",
            "Requirement already satisfied: qdldl in /usr/local/lib/python3.7/dist-packages (from osqp>=0.4.1->cvxpy<2.0.0,>=1.1.10->PyPortfolioOpt) (0.1.5.post0)\n",
            "Requirement already satisfied: six>=1.5 in /usr/local/lib/python3.7/dist-packages (from python-dateutil>=2.7.3->pandas>=0.19->PyPortfolioOpt) (1.15.0)\n"
          ],
          "name": "stdout"
        }
      ]
    },
    {
      "cell_type": "code",
      "metadata": {
        "colab": {
          "base_uri": "https://localhost:8080/"
        },
        "id": "OOVWRj5g2TV7",
        "outputId": "c07c09c2-f767-44ed-825e-bf4bf3829c01"
      },
      "source": [
        "from pypfopt.discrete_allocation import DiscreteAllocation, get_latest_prices\n",
        "\n",
        "\n",
        "latest_prices = get_latest_prices(prices)\n",
        "allocation_minv, rem_minv = DiscreteAllocation(sharpe_pwt, latest_prices, total_portfolio_value=10000).lp_portfolio()\n",
        "print(allocation_minv)\n",
        "print(\"Leftover Fund value in$ after building minimum volatility portfolio is ${:.2f}\".format(rem_minv))"
      ],
      "execution_count": null,
      "outputs": [
        {
          "output_type": "stream",
          "text": [
            "{'SGOL': 43, 'BSCR': 71, 'FDHY': 18, 'VGSH': 96, 'BBJP': 28}\n",
            "Leftover Fund value in$ after building minimum volatility portfolio is $13.18\n"
          ],
          "name": "stdout"
        }
      ]
    },
    {
      "cell_type": "code",
      "metadata": {
        "colab": {
          "base_uri": "https://localhost:8080/"
        },
        "id": "qtO90Y6M7JJ1",
        "outputId": "4706ee36-04f3-4c5f-fd2d-1ca026d428cd"
      },
      "source": [
        "ef.portfolio_performance(verbose=True)"
      ],
      "execution_count": null,
      "outputs": [
        {
          "output_type": "stream",
          "text": [
            "Expected annual return: 6.0%\n",
            "Annual volatility: 7.1%\n",
            "Sharpe Ratio: 0.56\n"
          ],
          "name": "stdout"
        },
        {
          "output_type": "execute_result",
          "data": {
            "text/plain": [
              "(0.060000000000000005, 0.07106979668664601, 0.5628269935309382)"
            ]
          },
          "metadata": {
            "tags": []
          },
          "execution_count": 41
        }
      ]
    },
    {
      "cell_type": "code",
      "metadata": {
        "colab": {
          "base_uri": "https://localhost:8080/",
          "height": 265
        },
        "id": "Sb8I2FTt7Qh9",
        "outputId": "2bbec313-fa82-4a38-d02c-2b56b368fad2"
      },
      "source": [
        "# Pie chart, where the slices will be ordered and plotted counter-clockwise:\n",
        "import matplotlib.pyplot as plt\n",
        "labels = ['SGOL','BSCR','FDHY','VGSH','VOO','BBJP','WOOD', 'SRET']\n",
        "sizes = list(dict(sharpe_pwt).values())\n",
        "\n",
        "plt.pie(sizes, labels=labels)\n",
        "print(sizes)"
      ],
      "execution_count": null,
      "outputs": [
        {
          "output_type": "stream",
          "text": [
            "[0.07302, 0.1571, 0.09829, 0.59018, 0.0, 0.08141, 0.0, 0.0]\n"
          ],
          "name": "stdout"
        },
        {
          "output_type": "display_data",
          "data": {
            "image/png": "[encoded data removed]",
            "text/plain": [
              "<Figure size 432x288 with 1 Axes>"
            ]
          },
          "metadata": {
            "tags": []
          }
        }
      ]
    },
    {
      "cell_type": "code",
      "metadata": {
        "colab": {
          "base_uri": "https://localhost:8080/"
        },
        "id": "IvUg2JEVDoHU",
        "outputId": "3301e0f4-839e-440f-a47b-6efa6b9f1e04"
      },
      "source": [
        "tickers_new = [['SGOL'],['BSCR','FDHY','VGSH'],['VOO','BBJP','INTC']]\n",
        "i=0\n",
        "for tickers in tickers_new:\n",
        "\n",
        "  ticker_list = tickers\n",
        "  print(ticker_list)\n",
        "  thelen = len(ticker_list)\n",
        "  price_data = []\n",
        "  start = date(2020,3,1)\n",
        "  end= date(2021,3,1)\n",
        "  data_source= 'yahoo'\n",
        "  prices = data.DataReader(ticker_list, data_source, start, end)\n",
        "\n",
        "  prices = prices['Adj Close']\n",
        "  prices.head()\n",
        "\n",
        "  mu_new = mean_historical_return(prices)\n",
        "  S_new = CovarianceShrinkage(prices).ledoit_wolf()\n",
        "\n",
        "  ef = EfficientFrontier(mu_new, S_new, weight_bounds=(0,1)) #weight bounds in negative allows shorting of stocks\n",
        "  ef.efficient_return(target_return=0.06, market_neutral=False)\n",
        "  #sharpe_pfolio=ef.max_sharpe() #May use add objective to ensure minimum zero weighting to individual stocks\n",
        "  sharpe_pwt=ef.clean_weights()\n",
        "  print(sharpe_pwt)\n",
        "  print(\"\")\n",
        "\n",
        "  ef.portfolio_performance(verbose=True)\n",
        "  #print(tickers)\n"
      ],
      "execution_count": null,
      "outputs": [
        {
          "output_type": "stream",
          "text": [
            "['SGOL']\n",
            "OrderedDict([('SGOL', 1.0)])\n",
            "\n",
            "Expected annual return: 8.4%\n",
            "Annual volatility: 20.0%\n",
            "Sharpe Ratio: 0.32\n",
            "['BSCR', 'FDHY', 'VGSH']\n",
            "OrderedDict([('BSCR', 0.08253), ('FDHY', 0.47919), ('VGSH', 0.43829)])\n",
            "\n",
            "Expected annual return: 6.0%\n",
            "Annual volatility: 7.4%\n",
            "Sharpe Ratio: 0.54\n",
            "['VOO', 'BBJP', 'INTC']\n",
            "OrderedDict([('VOO', 0.14316), ('BBJP', 0.85684), ('INTC', 0.0)])\n",
            "\n",
            "Expected annual return: 31.2%\n",
            "Annual volatility: 26.7%\n",
            "Sharpe Ratio: 1.09\n"
          ],
          "name": "stdout"
        }
      ]
    },
    {
      "cell_type": "code",
      "metadata": {
        "colab": {
          "base_uri": "https://localhost:8080/",
          "height": 332
        },
        "id": "KoLF2zcfGb3N",
        "outputId": "bce69d5c-67c7-49c0-fb89-a62675f6d711"
      },
      "source": [
        "tickers = ['BSCR','FDHY','VGSH']\n",
        "thelen = len(tickers)\n",
        "price_data = []\n",
        "start = date(2020,3,1)\n",
        "end= date(2021,3,1)\n",
        "data_source= 'yahoo'\n",
        "prices = data.DataReader(tickers, data_source, start, end)\n",
        "\n",
        "prices = prices['Adj Close']\n",
        "prices.head()\n",
        "\n",
        "mu = mean_historical_return(prices)\n",
        "S = CovarianceShrinkage(prices).ledoit_wolf()\n",
        "\n",
        "ef = EfficientFrontier(mu, S, weight_bounds=(0,1)) #weight bounds in negative allows shorting of stocks\n",
        "ef.efficient_return(target_return=0.075, market_neutral=False)\n",
        "#sharpe_pfolio=ef.max_sharpe() #May use add objective to ensure minimum zero weighting to individual stocks\n",
        "sharpe_pwt=ef.clean_weights()\n",
        "print(sharpe_pwt)\n",
        "ef.portfolio_performance(verbose=True)\n",
        "plt.pie(sizes, labels=labels)\n",
        "print(sizes)\n",
        "\n"
      ],
      "execution_count": null,
      "outputs": [
        {
          "output_type": "stream",
          "text": [
            "OrderedDict([('BSCR', 0.08779), ('FDHY', 0.65483), ('VGSH', 0.25739)])\n",
            "Expected annual return: 7.5%\n",
            "Annual volatility: 9.8%\n",
            "Sharpe Ratio: 0.56\n",
            "[0.06147, 0.13691, 0.07998, 0.62998, 0.0, 0.09166, 0.0]\n"
          ],
          "name": "stdout"
        },
        {
          "output_type": "display_data",
          "data": {
            "image/png": "[encoded data removed]",
            "text/plain": [
              "<Figure size 432x288 with 1 Axes>"
            ]
          },
          "metadata": {
            "tags": []
          }
        }
      ]
    },
    {
      "cell_type": "code",
      "metadata": {
        "colab": {
          "base_uri": "https://localhost:8080/"
        },
        "id": "JXLJ82WhR2ss",
        "outputId": "a84a2522-5921-4c76-b99e-25ab531b81eb"
      },
      "source": [
        "tickers = ['VOO','BBJP','INTC']\n",
        "thelen = len(tickers)\n",
        "price_data = []\n",
        "start = date(2020,3,1)\n",
        "end= date(2021,3,1)\n",
        "data_source= 'yahoo'\n",
        "prices = data.DataReader(tickers, data_source, start, end)\n",
        "\n",
        "prices = prices['Adj Close']\n",
        "prices.head()\n",
        "\n",
        "mu = mean_historical_return(prices)\n",
        "S = CovarianceShrinkage(prices).ledoit_wolf()\n",
        "\n",
        "ef = EfficientFrontier(mu, S, weight_bounds=(0,1)) #weight bounds in negative allows shorting of stocks\n",
        "ef.efficient_return(target_return=0.06, market_neutral=True)\n",
        "#sharpe_pfolio=ef.max_sharpe() #May use add objective to ensure minimum zero weighting to individual stocks\n",
        "sharpe_pwt=ef.clean_weights()\n",
        "print(sharpe_pwt)\n",
        "ef.portfolio_performance(verbose=True)\n"
      ],
      "execution_count": null,
      "outputs": [
        {
          "output_type": "stream",
          "text": [
            "OrderedDict([('VOO', 0.14543), ('BBJP', 0.16576), ('INTC', -0.3112)])\n",
            "Expected annual return: 6.0%\n",
            "Annual volatility: 12.8%\n",
            "Sharpe Ratio: 0.31\n"
          ],
          "name": "stdout"
        },
        {
          "output_type": "stream",
          "text": [
            "/usr/local/lib/python3.7/dist-packages/pypfopt/efficient_frontier/efficient_frontier.py:169: RuntimeWarning: Market neutrality requires shorting - bounds have been amended\n",
            "  RuntimeWarning,\n"
          ],
          "name": "stderr"
        },
        {
          "output_type": "execute_result",
          "data": {
            "text/plain": [
              "(0.06, 0.12818760065965631, 0.3120426608670346)"
            ]
          },
          "metadata": {
            "tags": []
          },
          "execution_count": 15
        }
      ]
    },
    {
      "cell_type": "code",
      "metadata": {
        "id": "mw5WI5IvSsDq"
      },
      "source": [
        ""
      ],
      "execution_count": null,
      "outputs": []
    }
  ]
}